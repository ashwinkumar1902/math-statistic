{
 "cells": [
  {
   "cell_type": "code",
   "execution_count": null,
   "id": "dd0cf1b5",
   "metadata": {
    "id": "dd0cf1b5"
   },
   "outputs": [],
   "source": []
  },
  {
   "cell_type": "markdown",
   "id": "07c8c0b2",
   "metadata": {
    "id": "07c8c0b2"
   },
   "source": [
    "\n",
    "### 1. Find the Cartesian Product of the below given sets in the below cell. (In Python Code)\n",
    "\n",
    "A = set(['a','b','c'])\n",
    "\n",
    "S = {1,2,3}\n"
   ]
  },
  {
   "cell_type": "code",
   "execution_count": 1,
   "id": "8b2078fa",
   "metadata": {
    "id": "8b2078fa"
   },
   "outputs": [
    {
     "name": "stdout",
     "output_type": "stream",
     "text": [
      "Cartesian Product of A and S:\n",
      "{('c', 1), ('b', 2), ('a', 1), ('c', 3), ('a', 3), ('c', 2), ('b', 1), ('b', 3), ('a', 2)}\n"
     ]
    }
   ],
   "source": [
    "from itertools import product\n",
    "\n",
    "A = set(['a', 'b', 'c'])\n",
    "S = {1, 2, 3}\n",
    "\n",
    "cartesian_product = set(product(A, S))\n",
    "\n",
    "print(\"Cartesian Product of A and S:\")\n",
    "print(cartesian_product)\n"
   ]
  },
  {
   "cell_type": "markdown",
   "id": "3d43b9ee",
   "metadata": {
    "id": "3d43b9ee"
   },
   "source": [
    "### 2. Find all the possible permutations and number of permutations of A\n",
    "\n",
    "A = {'Red','Green','Blue'}\n"
   ]
  },
  {
   "cell_type": "code",
   "execution_count": 2,
   "id": "52c18588",
   "metadata": {
    "id": "52c18588"
   },
   "outputs": [
    {
     "name": "stdout",
     "output_type": "stream",
     "text": [
      "All Permutations of A:\n",
      "[('Red', 'Green', 'Blue'), ('Red', 'Blue', 'Green'), ('Green', 'Red', 'Blue'), ('Green', 'Blue', 'Red'), ('Blue', 'Red', 'Green'), ('Blue', 'Green', 'Red')]\n",
      "\n",
      "Number of Permutations of A: 6\n"
     ]
    }
   ],
   "source": [
    "from itertools import permutations\n",
    "\n",
    "A = {'Red', 'Green', 'Blue'}\n",
    "\n",
    "all_permutations = list(permutations(A))\n",
    "num_permutations = len(all_permutations)\n",
    "\n",
    "print(\"All Permutations of A:\")\n",
    "print(all_permutations)\n",
    "\n",
    "print(\"\\nNumber of Permutations of A:\", num_permutations)\n"
   ]
  },
  {
   "cell_type": "code",
   "execution_count": null,
   "id": "51509b5e",
   "metadata": {
    "id": "51509b5e"
   },
   "outputs": [],
   "source": []
  },
  {
   "cell_type": "markdown",
   "id": "637ffa24",
   "metadata": {
    "id": "637ffa24"
   },
   "source": [
    "### 3. Research Question on Hypothesis Testing\n",
    "\n",
    "In previous years, 52% of parents believed that electronics and social media was the cause of their teenager’s lack of sleep. Do more parents today believe that their teenager’s lack of sleep is caused due to electronics and social media?\n",
    "\n",
    "**Population**: Parents with a teenager (age 13-18)  \n",
    "**Parameter of Interest**: p  \n",
    "\n",
    "**Null Hypothesis:** p = 0.52  \n",
    "**Alternative Hypthosis:** p > 0.52 (note that this is a one-sided test)\n",
    "\n",
    "**Data**: 1018 people were surveyed. 56% of those who were surveyed believe that their teenager’s lack of sleep is caused due to electronics and social media."
   ]
  },
  {
   "cell_type": "markdown",
   "id": "4786f83f",
   "metadata": {
    "id": "4786f83f"
   },
   "source": [
    "### Hint: Use  `proportions_ztest()` from `statsmodels`\n",
    "\n",
    "Note the argument `alternative=\"larger\"` indicating a one-sided test. The function returns two values - the z-statistic and the corresponding p-value."
   ]
  },
  {
   "cell_type": "code",
   "execution_count": 5,
   "id": "c7ca60b8",
   "metadata": {},
   "outputs": [
    {
     "name": "stdout",
     "output_type": "stream",
     "text": [
      "Z-Score: 2.5545334262132955\n",
      "P-Value: 0.0053165109918223985\n",
      "Reject the null hypothesis\n"
     ]
    }
   ],
   "source": [
    "import statsmodels.api as sm\n",
    "import scipy.stats as stats\n",
    "import numpy as np\n",
    "\n",
    "# Given data\n",
    "n = 1018  # Sample size\n",
    "x = 0.56  # Proportion from the sample\n",
    "p_null = 0.52  # Null hypothesis proportion\n",
    "\n",
    "# Calculate the standard error of the proportion\n",
    "se = np.sqrt(p_null * (1 - p_null) / n)\n",
    "\n",
    "# Calculate the z-score\n",
    "z = (x - p_null) / se\n",
    "\n",
    "# Calculate the p-value\n",
    "p_value = 1 - stats.norm.cdf(z)\n",
    "\n",
    "# Set the significance level (alpha)\n",
    "alpha = 0.05\n",
    "\n",
    "# Print statements\n",
    "print(f\"Z-Score: {z}\")\n",
    "print(f\"P-Value: {p_value}\")\n",
    "\n",
    "# Check if the p-value is less than alpha\n",
    "if p_value < alpha:\n",
    "    print(\"Reject the null hypothesis\")\n",
    "else:\n",
    "    print(\"Fail to reject the null hypothesis\")\n"
   ]
  },
  {
   "cell_type": "markdown",
   "id": "e64e5437",
   "metadata": {
    "id": "e64e5437"
   },
   "source": [
    "### What is your Conclusion of the hypothesis test\n"
   ]
  },
  {
   "cell_type": "markdown",
   "id": "bea46b45",
   "metadata": {
    "id": "4da83967"
   },
   "source": [
    "Comparing the p-value to the significance level (α = 0.05):\n",
    "Since 0.0053165109918223985 < 0.05, you would reject the null hypothesis."
   ]
  },
  {
   "cell_type": "markdown",
   "id": "4503f17c",
   "metadata": {
    "id": "4503f17c"
   },
   "source": [
    "### 4. Calculate the set difference between the 2 sets (set1 - multipes of 3 upto a range of 31 and set2 - multiples of 4 upto a range of 31)"
   ]
  },
  {
   "cell_type": "code",
   "execution_count": 3,
   "id": "d2760c77",
   "metadata": {
    "id": "d2760c77"
   },
   "outputs": [
    {
     "name": "stdout",
     "output_type": "stream",
     "text": [
      "Set Difference (set1 - set2):\n",
      "{3, 6, 9, 15, 18, 21, 27, 30}\n"
     ]
    }
   ],
   "source": [
    "# Generate multiples of 3 up to 31\n",
    "set1 = set(range(0, 31, 3))\n",
    "\n",
    "# Generate multiples of 4 up to 31\n",
    "set2 = set(range(0, 31, 4))\n",
    "\n",
    "# Calculate set difference\n",
    "result_set = set1 - set2\n",
    "\n",
    "print(\"Set Difference (set1 - set2):\")\n",
    "print(result_set)\n"
   ]
  },
  {
   "cell_type": "code",
   "execution_count": null,
   "id": "b10dc469",
   "metadata": {
    "id": "b10dc469"
   },
   "outputs": [],
   "source": []
  },
  {
   "cell_type": "markdown",
   "id": "796c2e91",
   "metadata": {
    "id": "796c2e91"
   },
   "source": [
    "### 5. Calculate a function to generate random arrays with range of (1,100) and the naive functions to calculate Mean, Varience and Standard deviation for the array generated"
   ]
  },
  {
   "cell_type": "code",
   "execution_count": 6,
   "id": "9c7a2930",
   "metadata": {
    "id": "9c7a2930"
   },
   "outputs": [
    {
     "name": "stdout",
     "output_type": "stream",
     "text": [
      "Generated Array: [85  4 52 96 54 68 63 63 64 46 79 68 59  7 52 24 82  9 58 53]\n",
      "Mean: 54.3\n",
      "Variance: 626.7100000000003\n",
      "Standard Deviation: 25.03417663914674\n"
     ]
    }
   ],
   "source": [
    "import numpy as np\n",
    "\n",
    "def generate_random_array(size):\n",
    "    \"\"\"Generate a random array with values in the range (1, 100).\"\"\"\n",
    "    return np.random.randint(1, 101, size)\n",
    "\n",
    "def calculate_mean(arr):\n",
    "    \"\"\"Calculate the mean of the array.\"\"\"\n",
    "    return sum(arr) / len(arr)\n",
    "\n",
    "def calculate_variance(arr):\n",
    "    \"\"\"Calculate the variance of the array.\"\"\"\n",
    "    mean = calculate_mean(arr)\n",
    "    return sum((x - mean) ** 2 for x in arr) / len(arr)\n",
    "\n",
    "def calculate_standard_deviation(arr):\n",
    "    \"\"\"Calculate the standard deviation of the array.\"\"\"\n",
    "    variance = calculate_variance(arr)\n",
    "    return np.sqrt(variance)\n",
    "\n",
    "# Generate a random array of size 20\n",
    "random_array = generate_random_array(20)\n",
    "\n",
    "# Calculate mean, variance, and standard deviation\n",
    "mean_value = calculate_mean(random_array)\n",
    "variance_value = calculate_variance(random_array)\n",
    "std_deviation_value = calculate_standard_deviation(random_array)\n",
    "\n",
    "# Print the results\n",
    "print(\"Generated Array:\", random_array)\n",
    "print(\"Mean:\", mean_value)\n",
    "print(\"Variance:\", variance_value)\n",
    "print(\"Standard Deviation:\", std_deviation_value)\n"
   ]
  },
  {
   "cell_type": "code",
   "execution_count": null,
   "id": "d9df5a6b",
   "metadata": {
    "id": "d9df5a6b"
   },
   "outputs": [],
   "source": []
  }
 ],
 "metadata": {
  "colab": {
   "provenance": []
  },
  "kernelspec": {
   "display_name": "Python 3 (ipykernel)",
   "language": "python",
   "name": "python3"
  },
  "language_info": {
   "codemirror_mode": {
    "name": "ipython",
    "version": 3
   },
   "file_extension": ".py",
   "mimetype": "text/x-python",
   "name": "python",
   "nbconvert_exporter": "python",
   "pygments_lexer": "ipython3",
   "version": "3.11.5"
  }
 },
 "nbformat": 4,
 "nbformat_minor": 5
}
